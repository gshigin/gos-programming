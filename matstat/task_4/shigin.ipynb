{
 "cells": [
  {
   "cell_type": "code",
   "execution_count": 3,
   "metadata": {},
   "outputs": [],
   "source": [
    "import numpy as np\n",
    "import scipy.stats\n",
    "import matplotlib.pyplot as plt\n",
    "import seaborn as sns\n",
    "import pandas as pd"
   ]
  },
  {
   "cell_type": "code",
   "execution_count": 11,
   "metadata": {},
   "outputs": [
    {
     "data": {
      "text/html": [
       "<div>\n",
       "<style scoped>\n",
       "    .dataframe tbody tr th:only-of-type {\n",
       "        vertical-align: middle;\n",
       "    }\n",
       "\n",
       "    .dataframe tbody tr th {\n",
       "        vertical-align: top;\n",
       "    }\n",
       "\n",
       "    .dataframe thead th {\n",
       "        text-align: right;\n",
       "    }\n",
       "</style>\n",
       "<table border=\"1\" class=\"dataframe\">\n",
       "  <thead>\n",
       "    <tr style=\"text-align: right;\">\n",
       "      <th></th>\n",
       "      <th>month</th>\n",
       "      <th>year</th>\n",
       "      <th>length</th>\n",
       "      <th>width</th>\n",
       "      <th>sex</th>\n",
       "      <th>leg</th>\n",
       "      <th>arm</th>\n",
       "    </tr>\n",
       "  </thead>\n",
       "  <tbody>\n",
       "    <tr>\n",
       "      <th>0</th>\n",
       "      <td>5</td>\n",
       "      <td>88</td>\n",
       "      <td>22.4</td>\n",
       "      <td>8.4</td>\n",
       "      <td>B</td>\n",
       "      <td>L</td>\n",
       "      <td>R</td>\n",
       "    </tr>\n",
       "    <tr>\n",
       "      <th>1</th>\n",
       "      <td>10</td>\n",
       "      <td>87</td>\n",
       "      <td>23.4</td>\n",
       "      <td>8.8</td>\n",
       "      <td>B</td>\n",
       "      <td>L</td>\n",
       "      <td>L</td>\n",
       "    </tr>\n",
       "    <tr>\n",
       "      <th>2</th>\n",
       "      <td>12</td>\n",
       "      <td>87</td>\n",
       "      <td>22.5</td>\n",
       "      <td>9.7</td>\n",
       "      <td>B</td>\n",
       "      <td>R</td>\n",
       "      <td>R</td>\n",
       "    </tr>\n",
       "    <tr>\n",
       "      <th>3</th>\n",
       "      <td>1</td>\n",
       "      <td>88</td>\n",
       "      <td>23.2</td>\n",
       "      <td>9.8</td>\n",
       "      <td>B</td>\n",
       "      <td>L</td>\n",
       "      <td>R</td>\n",
       "    </tr>\n",
       "    <tr>\n",
       "      <th>4</th>\n",
       "      <td>2</td>\n",
       "      <td>88</td>\n",
       "      <td>23.1</td>\n",
       "      <td>8.9</td>\n",
       "      <td>B</td>\n",
       "      <td>L</td>\n",
       "      <td>R</td>\n",
       "    </tr>\n",
       "    <tr>\n",
       "      <th>5</th>\n",
       "      <td>3</td>\n",
       "      <td>88</td>\n",
       "      <td>23.7</td>\n",
       "      <td>9.7</td>\n",
       "      <td>B</td>\n",
       "      <td>R</td>\n",
       "      <td>R</td>\n",
       "    </tr>\n",
       "    <tr>\n",
       "      <th>6</th>\n",
       "      <td>2</td>\n",
       "      <td>88</td>\n",
       "      <td>24.1</td>\n",
       "      <td>9.6</td>\n",
       "      <td>B</td>\n",
       "      <td>L</td>\n",
       "      <td>R</td>\n",
       "    </tr>\n",
       "    <tr>\n",
       "      <th>7</th>\n",
       "      <td>6</td>\n",
       "      <td>88</td>\n",
       "      <td>21.0</td>\n",
       "      <td>8.8</td>\n",
       "      <td>G</td>\n",
       "      <td>L</td>\n",
       "      <td>R</td>\n",
       "    </tr>\n",
       "    <tr>\n",
       "      <th>8</th>\n",
       "      <td>5</td>\n",
       "      <td>88</td>\n",
       "      <td>21.6</td>\n",
       "      <td>9.3</td>\n",
       "      <td>G</td>\n",
       "      <td>R</td>\n",
       "      <td>R</td>\n",
       "    </tr>\n",
       "    <tr>\n",
       "      <th>9</th>\n",
       "      <td>9</td>\n",
       "      <td>88</td>\n",
       "      <td>20.9</td>\n",
       "      <td>8.8</td>\n",
       "      <td>B</td>\n",
       "      <td>R</td>\n",
       "      <td>L</td>\n",
       "    </tr>\n",
       "    <tr>\n",
       "      <th>10</th>\n",
       "      <td>9</td>\n",
       "      <td>87</td>\n",
       "      <td>25.5</td>\n",
       "      <td>9.8</td>\n",
       "      <td>B</td>\n",
       "      <td>R</td>\n",
       "      <td>R</td>\n",
       "    </tr>\n",
       "    <tr>\n",
       "      <th>11</th>\n",
       "      <td>3</td>\n",
       "      <td>88</td>\n",
       "      <td>22.8</td>\n",
       "      <td>8.9</td>\n",
       "      <td>B</td>\n",
       "      <td>L</td>\n",
       "      <td>R</td>\n",
       "    </tr>\n",
       "    <tr>\n",
       "      <th>12</th>\n",
       "      <td>8</td>\n",
       "      <td>87</td>\n",
       "      <td>24.1</td>\n",
       "      <td>9.1</td>\n",
       "      <td>B</td>\n",
       "      <td>L</td>\n",
       "      <td>R</td>\n",
       "    </tr>\n",
       "    <tr>\n",
       "      <th>13</th>\n",
       "      <td>3</td>\n",
       "      <td>88</td>\n",
       "      <td>25.0</td>\n",
       "      <td>9.8</td>\n",
       "      <td>B</td>\n",
       "      <td>L</td>\n",
       "      <td>R</td>\n",
       "    </tr>\n",
       "    <tr>\n",
       "      <th>14</th>\n",
       "      <td>11</td>\n",
       "      <td>87</td>\n",
       "      <td>24.0</td>\n",
       "      <td>9.3</td>\n",
       "      <td>G</td>\n",
       "      <td>L</td>\n",
       "      <td>R</td>\n",
       "    </tr>\n",
       "    <tr>\n",
       "      <th>15</th>\n",
       "      <td>4</td>\n",
       "      <td>88</td>\n",
       "      <td>21.7</td>\n",
       "      <td>7.9</td>\n",
       "      <td>G</td>\n",
       "      <td>R</td>\n",
       "      <td>R</td>\n",
       "    </tr>\n",
       "    <tr>\n",
       "      <th>16</th>\n",
       "      <td>12</td>\n",
       "      <td>87</td>\n",
       "      <td>22.0</td>\n",
       "      <td>8.7</td>\n",
       "      <td>G</td>\n",
       "      <td>R</td>\n",
       "      <td>L</td>\n",
       "    </tr>\n",
       "    <tr>\n",
       "      <th>17</th>\n",
       "      <td>3</td>\n",
       "      <td>88</td>\n",
       "      <td>22.7</td>\n",
       "      <td>8.8</td>\n",
       "      <td>G</td>\n",
       "      <td>R</td>\n",
       "      <td>R</td>\n",
       "    </tr>\n",
       "    <tr>\n",
       "      <th>18</th>\n",
       "      <td>6</td>\n",
       "      <td>88</td>\n",
       "      <td>24.7</td>\n",
       "      <td>9.0</td>\n",
       "      <td>G</td>\n",
       "      <td>L</td>\n",
       "      <td>L</td>\n",
       "    </tr>\n",
       "    <tr>\n",
       "      <th>19</th>\n",
       "      <td>3</td>\n",
       "      <td>88</td>\n",
       "      <td>23.5</td>\n",
       "      <td>9.5</td>\n",
       "      <td>G</td>\n",
       "      <td>R</td>\n",
       "      <td>R</td>\n",
       "    </tr>\n",
       "    <tr>\n",
       "      <th>20</th>\n",
       "      <td>6</td>\n",
       "      <td>88</td>\n",
       "      <td>22.0</td>\n",
       "      <td>9.2</td>\n",
       "      <td>B</td>\n",
       "      <td>R</td>\n",
       "      <td>R</td>\n",
       "    </tr>\n",
       "    <tr>\n",
       "      <th>21</th>\n",
       "      <td>7</td>\n",
       "      <td>88</td>\n",
       "      <td>22.4</td>\n",
       "      <td>8.6</td>\n",
       "      <td>B</td>\n",
       "      <td>L</td>\n",
       "      <td>R</td>\n",
       "    </tr>\n",
       "    <tr>\n",
       "      <th>22</th>\n",
       "      <td>9</td>\n",
       "      <td>88</td>\n",
       "      <td>22.0</td>\n",
       "      <td>8.3</td>\n",
       "      <td>G</td>\n",
       "      <td>R</td>\n",
       "      <td>L</td>\n",
       "    </tr>\n",
       "    <tr>\n",
       "      <th>23</th>\n",
       "      <td>9</td>\n",
       "      <td>88</td>\n",
       "      <td>22.5</td>\n",
       "      <td>9.0</td>\n",
       "      <td>G</td>\n",
       "      <td>L</td>\n",
       "      <td>R</td>\n",
       "    </tr>\n",
       "    <tr>\n",
       "      <th>24</th>\n",
       "      <td>10</td>\n",
       "      <td>88</td>\n",
       "      <td>22.2</td>\n",
       "      <td>8.1</td>\n",
       "      <td>G</td>\n",
       "      <td>L</td>\n",
       "      <td>R</td>\n",
       "    </tr>\n",
       "    <tr>\n",
       "      <th>25</th>\n",
       "      <td>7</td>\n",
       "      <td>88</td>\n",
       "      <td>25.1</td>\n",
       "      <td>9.4</td>\n",
       "      <td>B</td>\n",
       "      <td>L</td>\n",
       "      <td>R</td>\n",
       "    </tr>\n",
       "    <tr>\n",
       "      <th>26</th>\n",
       "      <td>2</td>\n",
       "      <td>88</td>\n",
       "      <td>24.1</td>\n",
       "      <td>9.5</td>\n",
       "      <td>G</td>\n",
       "      <td>L</td>\n",
       "      <td>R</td>\n",
       "    </tr>\n",
       "    <tr>\n",
       "      <th>27</th>\n",
       "      <td>12</td>\n",
       "      <td>87</td>\n",
       "      <td>23.5</td>\n",
       "      <td>9.5</td>\n",
       "      <td>B</td>\n",
       "      <td>R</td>\n",
       "      <td>R</td>\n",
       "    </tr>\n",
       "    <tr>\n",
       "      <th>28</th>\n",
       "      <td>11</td>\n",
       "      <td>88</td>\n",
       "      <td>22.2</td>\n",
       "      <td>8.9</td>\n",
       "      <td>B</td>\n",
       "      <td>L</td>\n",
       "      <td>R</td>\n",
       "    </tr>\n",
       "    <tr>\n",
       "      <th>29</th>\n",
       "      <td>8</td>\n",
       "      <td>88</td>\n",
       "      <td>21.9</td>\n",
       "      <td>9.3</td>\n",
       "      <td>B</td>\n",
       "      <td>R</td>\n",
       "      <td>L</td>\n",
       "    </tr>\n",
       "    <tr>\n",
       "      <th>30</th>\n",
       "      <td>6</td>\n",
       "      <td>88</td>\n",
       "      <td>22.0</td>\n",
       "      <td>9.3</td>\n",
       "      <td>G</td>\n",
       "      <td>L</td>\n",
       "      <td>R</td>\n",
       "    </tr>\n",
       "    <tr>\n",
       "      <th>31</th>\n",
       "      <td>7</td>\n",
       "      <td>88</td>\n",
       "      <td>20.5</td>\n",
       "      <td>8.6</td>\n",
       "      <td>G</td>\n",
       "      <td>R</td>\n",
       "      <td>R</td>\n",
       "    </tr>\n",
       "    <tr>\n",
       "      <th>32</th>\n",
       "      <td>3</td>\n",
       "      <td>88</td>\n",
       "      <td>22.5</td>\n",
       "      <td>8.6</td>\n",
       "      <td>G</td>\n",
       "      <td>L</td>\n",
       "      <td>R</td>\n",
       "    </tr>\n",
       "    <tr>\n",
       "      <th>33</th>\n",
       "      <td>4</td>\n",
       "      <td>88</td>\n",
       "      <td>21.6</td>\n",
       "      <td>9.0</td>\n",
       "      <td>B</td>\n",
       "      <td>R</td>\n",
       "      <td>L</td>\n",
       "    </tr>\n",
       "    <tr>\n",
       "      <th>34</th>\n",
       "      <td>4</td>\n",
       "      <td>88</td>\n",
       "      <td>22.7</td>\n",
       "      <td>8.6</td>\n",
       "      <td>B</td>\n",
       "      <td>R</td>\n",
       "      <td>L</td>\n",
       "    </tr>\n",
       "    <tr>\n",
       "      <th>35</th>\n",
       "      <td>3</td>\n",
       "      <td>88</td>\n",
       "      <td>20.9</td>\n",
       "      <td>8.5</td>\n",
       "      <td>G</td>\n",
       "      <td>L</td>\n",
       "      <td>R</td>\n",
       "    </tr>\n",
       "    <tr>\n",
       "      <th>36</th>\n",
       "      <td>3</td>\n",
       "      <td>88</td>\n",
       "      <td>24.0</td>\n",
       "      <td>9.0</td>\n",
       "      <td>G</td>\n",
       "      <td>L</td>\n",
       "      <td>R</td>\n",
       "    </tr>\n",
       "    <tr>\n",
       "      <th>37</th>\n",
       "      <td>1</td>\n",
       "      <td>88</td>\n",
       "      <td>19.6</td>\n",
       "      <td>7.9</td>\n",
       "      <td>G</td>\n",
       "      <td>R</td>\n",
       "      <td>R</td>\n",
       "    </tr>\n",
       "    <tr>\n",
       "      <th>38</th>\n",
       "      <td>9</td>\n",
       "      <td>88</td>\n",
       "      <td>22.6</td>\n",
       "      <td>8.8</td>\n",
       "      <td>G</td>\n",
       "      <td>L</td>\n",
       "      <td>R</td>\n",
       "    </tr>\n",
       "  </tbody>\n",
       "</table>\n",
       "</div>"
      ],
      "text/plain": [
       "    month  year  length  width sex leg arm\n",
       "0       5    88    22.4    8.4   B   L   R\n",
       "1      10    87    23.4    8.8   B   L   L\n",
       "2      12    87    22.5    9.7   B   R   R\n",
       "3       1    88    23.2    9.8   B   L   R\n",
       "4       2    88    23.1    8.9   B   L   R\n",
       "5       3    88    23.7    9.7   B   R   R\n",
       "6       2    88    24.1    9.6   B   L   R\n",
       "7       6    88    21.0    8.8   G   L   R\n",
       "8       5    88    21.6    9.3   G   R   R\n",
       "9       9    88    20.9    8.8   B   R   L\n",
       "10      9    87    25.5    9.8   B   R   R\n",
       "11      3    88    22.8    8.9   B   L   R\n",
       "12      8    87    24.1    9.1   B   L   R\n",
       "13      3    88    25.0    9.8   B   L   R\n",
       "14     11    87    24.0    9.3   G   L   R\n",
       "15      4    88    21.7    7.9   G   R   R\n",
       "16     12    87    22.0    8.7   G   R   L\n",
       "17      3    88    22.7    8.8   G   R   R\n",
       "18      6    88    24.7    9.0   G   L   L\n",
       "19      3    88    23.5    9.5   G   R   R\n",
       "20      6    88    22.0    9.2   B   R   R\n",
       "21      7    88    22.4    8.6   B   L   R\n",
       "22      9    88    22.0    8.3   G   R   L\n",
       "23      9    88    22.5    9.0   G   L   R\n",
       "24     10    88    22.2    8.1   G   L   R\n",
       "25      7    88    25.1    9.4   B   L   R\n",
       "26      2    88    24.1    9.5   G   L   R\n",
       "27     12    87    23.5    9.5   B   R   R\n",
       "28     11    88    22.2    8.9   B   L   R\n",
       "29      8    88    21.9    9.3   B   R   L\n",
       "30      6    88    22.0    9.3   G   L   R\n",
       "31      7    88    20.5    8.6   G   R   R\n",
       "32      3    88    22.5    8.6   G   L   R\n",
       "33      4    88    21.6    9.0   B   R   L\n",
       "34      4    88    22.7    8.6   B   R   L\n",
       "35      3    88    20.9    8.5   G   L   R\n",
       "36      3    88    24.0    9.0   G   L   R\n",
       "37      1    88    19.6    7.9   G   R   R\n",
       "38      9    88    22.6    8.8   G   L   R"
      ]
     },
     "execution_count": 11,
     "metadata": {},
     "output_type": "execute_result"
    }
   ],
   "source": [
    "data = pd.read_csv('kf.txt',sep = '\\s+', names = ['month', 'year', 'length', 'width', 'sex', 'leg', 'arm'])\n",
    "data"
   ]
  },
  {
   "cell_type": "markdown",
   "metadata": {},
   "source": [
    "## a)\n",
    "Выберем длины стоп в зависимости от пола"
   ]
  },
  {
   "cell_type": "code",
   "execution_count": 24,
   "metadata": {},
   "outputs": [],
   "source": [
    "x = data['length'][data['sex'] == 'B']\n",
    "y = data['length'][data['sex'] == 'G']"
   ]
  },
  {
   "cell_type": "code",
   "execution_count": 25,
   "metadata": {},
   "outputs": [
    {
     "data": {
      "text/plain": [
       "KstestResult(statistic=0.2868421052631579, pvalue=0.31213297311377297)"
      ]
     },
     "execution_count": 25,
     "metadata": {},
     "output_type": "execute_result"
    }
   ],
   "source": [
    "ans = scipy.stats.ks_2samp(x, y)\n",
    "ans"
   ]
  },
  {
   "cell_type": "code",
   "execution_count": 26,
   "metadata": {},
   "outputs": [
    {
     "data": {
      "text/plain": [
       "Anderson_ksampResult(statistic=1.1875046156702485, critical_values=array([0.325, 1.226, 1.961, 2.718, 3.752, 4.592, 6.546]), significance_level=0.10546442122993806)"
      ]
     },
     "execution_count": 26,
     "metadata": {},
     "output_type": "execute_result"
    }
   ],
   "source": [
    "ans = scipy.stats.anderson_ksamp([x, y])\n",
    "ans"
   ]
  },
  {
   "cell_type": "markdown",
   "metadata": {},
   "source": [
    "Оба теста выдают p-value $\\geq0.05$, а значит гипотеза принимается - длина стопы распределена одинаково"
   ]
  },
  {
   "cell_type": "markdown",
   "metadata": {},
   "source": [
    "## б)\n",
    "Для ширины стопы"
   ]
  },
  {
   "cell_type": "code",
   "execution_count": 27,
   "metadata": {},
   "outputs": [],
   "source": [
    "x = data['width'][data['sex'] == 'B']\n",
    "y = data['width'][data['sex'] == 'G']"
   ]
  },
  {
   "cell_type": "code",
   "execution_count": 28,
   "metadata": {},
   "outputs": [
    {
     "data": {
      "text/plain": [
       "KstestResult(statistic=0.32894736842105265, pvalue=0.19680732223170677)"
      ]
     },
     "execution_count": 28,
     "metadata": {},
     "output_type": "execute_result"
    }
   ],
   "source": [
    "ans = scipy.stats.ks_2samp(x, y)\n",
    "ans"
   ]
  },
  {
   "cell_type": "code",
   "execution_count": 29,
   "metadata": {},
   "outputs": [
    {
     "data": {
      "text/plain": [
       "Anderson_ksampResult(statistic=3.3461062257308414, critical_values=array([0.325, 1.226, 1.961, 2.718, 3.752, 4.592, 6.546]), significance_level=0.014297796721853275)"
      ]
     },
     "execution_count": 29,
     "metadata": {},
     "output_type": "execute_result"
    }
   ],
   "source": [
    "ans = scipy.stats.anderson_ksamp([x, y])\n",
    "ans"
   ]
  },
  {
   "cell_type": "markdown",
   "metadata": {},
   "source": [
    "Тут два критерия становятся несогласны друг с другом, подключим  t-test:"
   ]
  },
  {
   "cell_type": "code",
   "execution_count": 31,
   "metadata": {},
   "outputs": [
    {
     "data": {
      "text/plain": [
       "Ttest_indResult(statistic=2.6803119461043305, pvalue=0.010917395815008306)"
      ]
     },
     "execution_count": 31,
     "metadata": {},
     "output_type": "execute_result"
    }
   ],
   "source": [
    "students = scipy.stats.ttest_ind(x, y)\n",
    "students"
   ]
  },
  {
   "cell_type": "markdown",
   "metadata": {},
   "source": [
    "Ну, вроде как можно отвергать"
   ]
  },
  {
   "cell_type": "markdown",
   "metadata": {},
   "source": [
    "## в)\n",
    "Левши против правши по ширине стопы"
   ]
  },
  {
   "cell_type": "code",
   "execution_count": 32,
   "metadata": {},
   "outputs": [],
   "source": [
    "x = data['width'][data['arm'] == 'L']\n",
    "y = data['width'][data['arm'] == 'R']"
   ]
  },
  {
   "cell_type": "code",
   "execution_count": 33,
   "metadata": {},
   "outputs": [
    {
     "data": {
      "text/plain": [
       "KstestResult(statistic=0.3588709677419355, pvalue=0.31296211017573244)"
      ]
     },
     "execution_count": 33,
     "metadata": {},
     "output_type": "execute_result"
    }
   ],
   "source": [
    "ans = scipy.stats.ks_2samp(x, y)\n",
    "ans"
   ]
  },
  {
   "cell_type": "code",
   "execution_count": 34,
   "metadata": {},
   "outputs": [
    {
     "data": {
      "text/plain": [
       "Anderson_ksampResult(statistic=0.6105226289886471, critical_values=array([0.325, 1.226, 1.961, 2.718, 3.752, 4.592, 6.546]), significance_level=0.18516049427526068)"
      ]
     },
     "execution_count": 34,
     "metadata": {},
     "output_type": "execute_result"
    }
   ],
   "source": [
    "ans = scipy.stats.anderson_ksamp([x, y])\n",
    "ans"
   ]
  },
  {
   "cell_type": "markdown",
   "metadata": {},
   "source": [
    "Оба критерия говорят, что распределения одинаковы."
   ]
  },
  {
   "cell_type": "markdown",
   "metadata": {},
   "source": [
    "## г)\n",
    "\n",
    "Чем больше возраст тем меньше стопа?"
   ]
  },
  {
   "cell_type": "code",
   "execution_count": 36,
   "metadata": {},
   "outputs": [],
   "source": [
    "x = data['width'][data['year'] == 87] # старшие\n",
    "y = data['width'][data['year'] == 88] # младшие"
   ]
  },
  {
   "cell_type": "code",
   "execution_count": 41,
   "metadata": {},
   "outputs": [
    {
     "data": {
      "text/plain": [
       "KstestResult(statistic=0.3705357142857143, pvalue=0.3274323924478723)"
      ]
     },
     "execution_count": 41,
     "metadata": {},
     "output_type": "execute_result"
    }
   ],
   "source": [
    "ans = scipy.stats.ks_2samp(x, y)\n",
    "ans"
   ]
  },
  {
   "cell_type": "code",
   "execution_count": 42,
   "metadata": {},
   "outputs": [
    {
     "data": {
      "text/plain": [
       "Anderson_ksampResult(statistic=0.579695185867226, critical_values=array([0.325, 1.226, 1.961, 2.718, 3.752, 4.592, 6.546]), significance_level=0.1908783510466057)"
      ]
     },
     "execution_count": 42,
     "metadata": {},
     "output_type": "execute_result"
    }
   ],
   "source": [
    "ans = scipy.stats.anderson_ksamp([x, y])\n",
    "ans"
   ]
  },
  {
   "cell_type": "markdown",
   "metadata": {},
   "source": [
    "Критерии однородности говорят, что ширина стопы не зависит от возраста (выборки распределены одинаково)"
   ]
  },
  {
   "cell_type": "code",
   "execution_count": 43,
   "metadata": {},
   "outputs": [],
   "source": [
    "x = data['length'][data['year'] == 87] # старшие\n",
    "y = data['length'][data['year'] == 88] # младшие"
   ]
  },
  {
   "cell_type": "code",
   "execution_count": 44,
   "metadata": {},
   "outputs": [
    {
     "data": {
      "text/plain": [
       "KstestResult(statistic=0.4642857142857143, pvalue=0.12424288585279296)"
      ]
     },
     "execution_count": 44,
     "metadata": {},
     "output_type": "execute_result"
    }
   ],
   "source": [
    "ans = scipy.stats.ks_2samp(x, y)\n",
    "ans"
   ]
  },
  {
   "cell_type": "code",
   "execution_count": 45,
   "metadata": {},
   "outputs": [
    {
     "data": {
      "text/plain": [
       "Anderson_ksampResult(statistic=1.3982435105062823, critical_values=array([0.325, 1.226, 1.961, 2.718, 3.752, 4.592, 6.546]), significance_level=0.0861265364080764)"
      ]
     },
     "execution_count": 45,
     "metadata": {},
     "output_type": "execute_result"
    }
   ],
   "source": [
    "ans = scipy.stats.anderson_ksamp([x, y])\n",
    "ans"
   ]
  },
  {
   "cell_type": "markdown",
   "metadata": {},
   "source": [
    "А с длинной стопы есть противоречие. Подключим третий критерий:"
   ]
  },
  {
   "cell_type": "code",
   "execution_count": 46,
   "metadata": {},
   "outputs": [
    {
     "data": {
      "text/plain": [
       "Ttest_indResult(statistic=1.948615691453305, pvalue=0.05895530326775904)"
      ]
     },
     "execution_count": 46,
     "metadata": {},
     "output_type": "execute_result"
    }
   ],
   "source": [
    "students = scipy.stats.ttest_ind(x, y)\n",
    "students"
   ]
  },
  {
   "cell_type": "markdown",
   "metadata": {},
   "source": [
    "На грани, но предлагается принимать однородность. Таким образом, длина тоже не зависит от возраста."
   ]
  },
  {
   "cell_type": "markdown",
   "metadata": {},
   "source": [
    "# II."
   ]
  },
  {
   "cell_type": "code",
   "execution_count": 50,
   "metadata": {},
   "outputs": [
    {
     "data": {
      "text/html": [
       "<div>\n",
       "<style scoped>\n",
       "    .dataframe tbody tr th:only-of-type {\n",
       "        vertical-align: middle;\n",
       "    }\n",
       "\n",
       "    .dataframe tbody tr th {\n",
       "        vertical-align: top;\n",
       "    }\n",
       "\n",
       "    .dataframe thead th {\n",
       "        text-align: right;\n",
       "    }\n",
       "</style>\n",
       "<table border=\"1\" class=\"dataframe\">\n",
       "  <thead>\n",
       "    <tr style=\"text-align: right;\">\n",
       "      <th></th>\n",
       "      <th>Poison</th>\n",
       "      <th>Treatment</th>\n",
       "      <th>Time</th>\n",
       "    </tr>\n",
       "  </thead>\n",
       "  <tbody>\n",
       "    <tr>\n",
       "      <th>0</th>\n",
       "      <td>1</td>\n",
       "      <td>1</td>\n",
       "      <td>0.31</td>\n",
       "    </tr>\n",
       "    <tr>\n",
       "      <th>1</th>\n",
       "      <td>1</td>\n",
       "      <td>1</td>\n",
       "      <td>0.45</td>\n",
       "    </tr>\n",
       "    <tr>\n",
       "      <th>2</th>\n",
       "      <td>1</td>\n",
       "      <td>1</td>\n",
       "      <td>0.46</td>\n",
       "    </tr>\n",
       "    <tr>\n",
       "      <th>3</th>\n",
       "      <td>1</td>\n",
       "      <td>1</td>\n",
       "      <td>0.43</td>\n",
       "    </tr>\n",
       "    <tr>\n",
       "      <th>4</th>\n",
       "      <td>1</td>\n",
       "      <td>2</td>\n",
       "      <td>0.82</td>\n",
       "    </tr>\n",
       "    <tr>\n",
       "      <th>5</th>\n",
       "      <td>1</td>\n",
       "      <td>2</td>\n",
       "      <td>1.10</td>\n",
       "    </tr>\n",
       "    <tr>\n",
       "      <th>6</th>\n",
       "      <td>1</td>\n",
       "      <td>2</td>\n",
       "      <td>0.88</td>\n",
       "    </tr>\n",
       "    <tr>\n",
       "      <th>7</th>\n",
       "      <td>1</td>\n",
       "      <td>2</td>\n",
       "      <td>0.72</td>\n",
       "    </tr>\n",
       "    <tr>\n",
       "      <th>8</th>\n",
       "      <td>1</td>\n",
       "      <td>3</td>\n",
       "      <td>0.43</td>\n",
       "    </tr>\n",
       "    <tr>\n",
       "      <th>9</th>\n",
       "      <td>1</td>\n",
       "      <td>3</td>\n",
       "      <td>0.45</td>\n",
       "    </tr>\n",
       "    <tr>\n",
       "      <th>10</th>\n",
       "      <td>1</td>\n",
       "      <td>3</td>\n",
       "      <td>0.63</td>\n",
       "    </tr>\n",
       "    <tr>\n",
       "      <th>11</th>\n",
       "      <td>1</td>\n",
       "      <td>3</td>\n",
       "      <td>0.76</td>\n",
       "    </tr>\n",
       "    <tr>\n",
       "      <th>12</th>\n",
       "      <td>1</td>\n",
       "      <td>4</td>\n",
       "      <td>0.45</td>\n",
       "    </tr>\n",
       "    <tr>\n",
       "      <th>13</th>\n",
       "      <td>1</td>\n",
       "      <td>4</td>\n",
       "      <td>0.71</td>\n",
       "    </tr>\n",
       "    <tr>\n",
       "      <th>14</th>\n",
       "      <td>1</td>\n",
       "      <td>4</td>\n",
       "      <td>0.66</td>\n",
       "    </tr>\n",
       "    <tr>\n",
       "      <th>15</th>\n",
       "      <td>1</td>\n",
       "      <td>4</td>\n",
       "      <td>0.62</td>\n",
       "    </tr>\n",
       "    <tr>\n",
       "      <th>16</th>\n",
       "      <td>2</td>\n",
       "      <td>1</td>\n",
       "      <td>0.36</td>\n",
       "    </tr>\n",
       "    <tr>\n",
       "      <th>17</th>\n",
       "      <td>2</td>\n",
       "      <td>1</td>\n",
       "      <td>0.29</td>\n",
       "    </tr>\n",
       "    <tr>\n",
       "      <th>18</th>\n",
       "      <td>2</td>\n",
       "      <td>1</td>\n",
       "      <td>0.40</td>\n",
       "    </tr>\n",
       "    <tr>\n",
       "      <th>19</th>\n",
       "      <td>2</td>\n",
       "      <td>1</td>\n",
       "      <td>0.23</td>\n",
       "    </tr>\n",
       "    <tr>\n",
       "      <th>20</th>\n",
       "      <td>2</td>\n",
       "      <td>2</td>\n",
       "      <td>0.92</td>\n",
       "    </tr>\n",
       "    <tr>\n",
       "      <th>21</th>\n",
       "      <td>2</td>\n",
       "      <td>2</td>\n",
       "      <td>0.61</td>\n",
       "    </tr>\n",
       "    <tr>\n",
       "      <th>22</th>\n",
       "      <td>2</td>\n",
       "      <td>2</td>\n",
       "      <td>0.49</td>\n",
       "    </tr>\n",
       "    <tr>\n",
       "      <th>23</th>\n",
       "      <td>2</td>\n",
       "      <td>2</td>\n",
       "      <td>1.24</td>\n",
       "    </tr>\n",
       "    <tr>\n",
       "      <th>24</th>\n",
       "      <td>2</td>\n",
       "      <td>3</td>\n",
       "      <td>0.44</td>\n",
       "    </tr>\n",
       "    <tr>\n",
       "      <th>25</th>\n",
       "      <td>2</td>\n",
       "      <td>3</td>\n",
       "      <td>0.35</td>\n",
       "    </tr>\n",
       "    <tr>\n",
       "      <th>26</th>\n",
       "      <td>2</td>\n",
       "      <td>3</td>\n",
       "      <td>0.31</td>\n",
       "    </tr>\n",
       "    <tr>\n",
       "      <th>27</th>\n",
       "      <td>2</td>\n",
       "      <td>3</td>\n",
       "      <td>0.40</td>\n",
       "    </tr>\n",
       "    <tr>\n",
       "      <th>28</th>\n",
       "      <td>2</td>\n",
       "      <td>4</td>\n",
       "      <td>0.56</td>\n",
       "    </tr>\n",
       "    <tr>\n",
       "      <th>29</th>\n",
       "      <td>2</td>\n",
       "      <td>4</td>\n",
       "      <td>1.02</td>\n",
       "    </tr>\n",
       "    <tr>\n",
       "      <th>30</th>\n",
       "      <td>2</td>\n",
       "      <td>4</td>\n",
       "      <td>0.71</td>\n",
       "    </tr>\n",
       "    <tr>\n",
       "      <th>31</th>\n",
       "      <td>2</td>\n",
       "      <td>4</td>\n",
       "      <td>0.38</td>\n",
       "    </tr>\n",
       "    <tr>\n",
       "      <th>32</th>\n",
       "      <td>3</td>\n",
       "      <td>1</td>\n",
       "      <td>0.22</td>\n",
       "    </tr>\n",
       "    <tr>\n",
       "      <th>33</th>\n",
       "      <td>3</td>\n",
       "      <td>1</td>\n",
       "      <td>0.21</td>\n",
       "    </tr>\n",
       "    <tr>\n",
       "      <th>34</th>\n",
       "      <td>3</td>\n",
       "      <td>1</td>\n",
       "      <td>0.18</td>\n",
       "    </tr>\n",
       "    <tr>\n",
       "      <th>35</th>\n",
       "      <td>3</td>\n",
       "      <td>1</td>\n",
       "      <td>0.23</td>\n",
       "    </tr>\n",
       "    <tr>\n",
       "      <th>36</th>\n",
       "      <td>3</td>\n",
       "      <td>2</td>\n",
       "      <td>0.30</td>\n",
       "    </tr>\n",
       "    <tr>\n",
       "      <th>37</th>\n",
       "      <td>3</td>\n",
       "      <td>2</td>\n",
       "      <td>0.37</td>\n",
       "    </tr>\n",
       "    <tr>\n",
       "      <th>38</th>\n",
       "      <td>3</td>\n",
       "      <td>2</td>\n",
       "      <td>0.38</td>\n",
       "    </tr>\n",
       "    <tr>\n",
       "      <th>39</th>\n",
       "      <td>3</td>\n",
       "      <td>2</td>\n",
       "      <td>0.29</td>\n",
       "    </tr>\n",
       "    <tr>\n",
       "      <th>40</th>\n",
       "      <td>3</td>\n",
       "      <td>3</td>\n",
       "      <td>0.23</td>\n",
       "    </tr>\n",
       "    <tr>\n",
       "      <th>41</th>\n",
       "      <td>3</td>\n",
       "      <td>3</td>\n",
       "      <td>0.25</td>\n",
       "    </tr>\n",
       "    <tr>\n",
       "      <th>42</th>\n",
       "      <td>3</td>\n",
       "      <td>3</td>\n",
       "      <td>0.24</td>\n",
       "    </tr>\n",
       "    <tr>\n",
       "      <th>43</th>\n",
       "      <td>3</td>\n",
       "      <td>3</td>\n",
       "      <td>0.22</td>\n",
       "    </tr>\n",
       "    <tr>\n",
       "      <th>44</th>\n",
       "      <td>3</td>\n",
       "      <td>4</td>\n",
       "      <td>0.30</td>\n",
       "    </tr>\n",
       "    <tr>\n",
       "      <th>45</th>\n",
       "      <td>3</td>\n",
       "      <td>4</td>\n",
       "      <td>0.36</td>\n",
       "    </tr>\n",
       "    <tr>\n",
       "      <th>46</th>\n",
       "      <td>3</td>\n",
       "      <td>4</td>\n",
       "      <td>0.31</td>\n",
       "    </tr>\n",
       "    <tr>\n",
       "      <th>47</th>\n",
       "      <td>3</td>\n",
       "      <td>4</td>\n",
       "      <td>0.33</td>\n",
       "    </tr>\n",
       "  </tbody>\n",
       "</table>\n",
       "</div>"
      ],
      "text/plain": [
       "    Poison  Treatment  Time\n",
       "0        1          1  0.31\n",
       "1        1          1  0.45\n",
       "2        1          1  0.46\n",
       "3        1          1  0.43\n",
       "4        1          2  0.82\n",
       "5        1          2  1.10\n",
       "6        1          2  0.88\n",
       "7        1          2  0.72\n",
       "8        1          3  0.43\n",
       "9        1          3  0.45\n",
       "10       1          3  0.63\n",
       "11       1          3  0.76\n",
       "12       1          4  0.45\n",
       "13       1          4  0.71\n",
       "14       1          4  0.66\n",
       "15       1          4  0.62\n",
       "16       2          1  0.36\n",
       "17       2          1  0.29\n",
       "18       2          1  0.40\n",
       "19       2          1  0.23\n",
       "20       2          2  0.92\n",
       "21       2          2  0.61\n",
       "22       2          2  0.49\n",
       "23       2          2  1.24\n",
       "24       2          3  0.44\n",
       "25       2          3  0.35\n",
       "26       2          3  0.31\n",
       "27       2          3  0.40\n",
       "28       2          4  0.56\n",
       "29       2          4  1.02\n",
       "30       2          4  0.71\n",
       "31       2          4  0.38\n",
       "32       3          1  0.22\n",
       "33       3          1  0.21\n",
       "34       3          1  0.18\n",
       "35       3          1  0.23\n",
       "36       3          2  0.30\n",
       "37       3          2  0.37\n",
       "38       3          2  0.38\n",
       "39       3          2  0.29\n",
       "40       3          3  0.23\n",
       "41       3          3  0.25\n",
       "42       3          3  0.24\n",
       "43       3          3  0.22\n",
       "44       3          4  0.30\n",
       "45       3          4  0.36\n",
       "46       3          4  0.31\n",
       "47       3          4  0.33"
      ]
     },
     "execution_count": 50,
     "metadata": {},
     "output_type": "execute_result"
    }
   ],
   "source": [
    "data = pd.read_csv('poison.txt', sep='\\t')\n",
    "data"
   ]
  },
  {
   "cell_type": "markdown",
   "metadata": {},
   "source": [
    "## a)\n",
    "Яды одинаково эфективны"
   ]
  },
  {
   "cell_type": "code",
   "execution_count": 52,
   "metadata": {},
   "outputs": [],
   "source": [
    "pois_1 = data['Time'][data['Poison'] == 1]\n",
    "pois_2 = data['Time'][data['Poison'] == 2]\n",
    "pois_3 = data['Time'][data['Poison'] == 3]"
   ]
  },
  {
   "cell_type": "code",
   "execution_count": 54,
   "metadata": {},
   "outputs": [
    {
     "name": "stderr",
     "output_type": "stream",
     "text": [
      "/var/folders/mz/64rwk89d2l5fdzx7sdpf0jnw0000gn/T/ipykernel_13326/1128715504.py:1: UserWarning: p-value floored: true value smaller than 0.001\n",
      "  ans = scipy.stats.anderson_ksamp([pois_1, pois_2, pois_3])\n"
     ]
    },
    {
     "data": {
      "text/plain": [
       "Anderson_ksampResult(statistic=12.026019568891126, critical_values=array([0.44925884, 1.3052767 , 1.9434184 , 2.57696569, 3.41634856,\n",
       "       4.07210043, 5.56419101]), significance_level=0.001)"
      ]
     },
     "execution_count": 54,
     "metadata": {},
     "output_type": "execute_result"
    }
   ],
   "source": [
    "ans = scipy.stats.anderson_ksamp([pois_1, pois_2, pois_3])\n",
    "ans"
   ]
  },
  {
   "cell_type": "markdown",
   "metadata": {},
   "source": [
    "Статистика больше любого порогового значения - гипотеза отвергается"
   ]
  },
  {
   "cell_type": "markdown",
   "metadata": {},
   "source": [
    "## б)\n",
    "Препараты одинаково эффектины"
   ]
  },
  {
   "cell_type": "code",
   "execution_count": 61,
   "metadata": {},
   "outputs": [],
   "source": [
    "treat_1 = data['Time'][data['Treatment'] == 1]\n",
    "treat_2 = data['Time'][data['Treatment'] == 2]\n",
    "treat_3 = data['Time'][data['Treatment'] == 3]\n",
    "treat_4 = data['Time'][data['Treatment'] == 4]"
   ]
  },
  {
   "cell_type": "code",
   "execution_count": 57,
   "metadata": {},
   "outputs": [
    {
     "data": {
      "text/plain": [
       "Anderson_ksampResult(statistic=4.309805182079891, critical_values=array([0.49854918, 1.3236709 , 1.91577682, 2.49304213, 3.24593219,\n",
       "       3.82285604, 5.12078789]), significance_level=0.0027497984731971194)"
      ]
     },
     "execution_count": 57,
     "metadata": {},
     "output_type": "execute_result"
    }
   ],
   "source": [
    "ans = scipy.stats.anderson_ksamp([treat_1, treat_2, treat_3, treat_4])\n",
    "ans"
   ]
  },
  {
   "cell_type": "markdown",
   "metadata": {},
   "source": [
    "Критерий всё ещё отвергается. Препараты не одинаково эффективны"
   ]
  },
  {
   "cell_type": "markdown",
   "metadata": {},
   "source": [
    "## в)\n",
    "Этот пункт отличается от предыдущего вроде как тем, что нам просто надо применить однофакторный анализ то бишь ANOVA при условии наличия яда"
   ]
  },
  {
   "cell_type": "code",
   "execution_count": 68,
   "metadata": {},
   "outputs": [],
   "source": [
    "treat_1 = data[['Time']][data['Treatment'] == 1]\n",
    "treat_2 = data[['Time']][data['Treatment'] == 2]\n",
    "treat_3 = data[['Time']][data['Treatment'] == 3]\n",
    "treat_4 = data[['Time']][data['Treatment'] == 4]"
   ]
  },
  {
   "cell_type": "code",
   "execution_count": 69,
   "metadata": {},
   "outputs": [
    {
     "data": {
      "text/plain": [
       "F_onewayResult(statistic=array([6.48360626]), pvalue=array([0.00099208]))"
      ]
     },
     "execution_count": 69,
     "metadata": {},
     "output_type": "execute_result"
    }
   ],
   "source": [
    "anova = scipy.stats.f_oneway(treat_1, treat_2, treat_3, treat_4, axis = 0)\n",
    "anova"
   ]
  },
  {
   "cell_type": "markdown",
   "metadata": {},
   "source": [
    "Но вроде как всё ещё фигня, гипотеза отвергается."
   ]
  }
 ],
 "metadata": {
  "kernelspec": {
   "display_name": "myenv",
   "language": "python",
   "name": "python3"
  },
  "language_info": {
   "codemirror_mode": {
    "name": "ipython",
    "version": 3
   },
   "file_extension": ".py",
   "mimetype": "text/x-python",
   "name": "python",
   "nbconvert_exporter": "python",
   "pygments_lexer": "ipython3",
   "version": "3.9.10"
  },
  "orig_nbformat": 4
 },
 "nbformat": 4,
 "nbformat_minor": 2
}
