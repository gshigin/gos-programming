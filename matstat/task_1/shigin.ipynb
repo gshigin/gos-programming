{
 "cells": [
  {
   "cell_type": "code",
   "execution_count": 84,
   "metadata": {},
   "outputs": [],
   "source": [
    "import numpy as np\n",
    "import matplotlib.pyplot as plt"
   ]
  },
  {
   "cell_type": "markdown",
   "metadata": {},
   "source": [
    "# I."
   ]
  },
  {
   "cell_type": "code",
   "execution_count": 10,
   "metadata": {},
   "outputs": [],
   "source": [
    "N = 100\n",
    "theta = 3 # try 1, 2, 3, 4, 5\n",
    "\n",
    "x = np.random.uniform(-theta, theta, N)"
   ]
  },
  {
   "cell_type": "markdown",
   "metadata": {},
   "source": [
    "Для $X\\sim R[-\\theta, \\theta]$ метод моментов дает:\n",
    "    $$EX=\\frac{1}{2}(a+b)= \\frac{1}{2}(-\\theta+\\theta)=0 = \\overline{X}$$\n",
    "    $$EX^2 = \\frac{1}{3}(a^2+ab+b^2) = \\frac{1}{3}(\\theta^2-\\theta^2+\\theta^2)=\\frac{\\theta^3}{3} = \\overline{X^2}$$\n",
    "    $$\\Rightarrow \\theta = \\sqrt{3 \\overline{X^2}}$$"
   ]
  },
  {
   "cell_type": "code",
   "execution_count": 11,
   "metadata": {},
   "outputs": [
    {
     "data": {
      "text/plain": [
       "3.1076642923835958"
      ]
     },
     "execution_count": 11,
     "metadata": {},
     "output_type": "execute_result"
    }
   ],
   "source": [
    "theta_mm = np.sqrt(3*(x**2).mean())\n",
    "theta_mm"
   ]
  },
  {
   "cell_type": "markdown",
   "metadata": {},
   "source": [
    "Для $X\\sim R[-\\theta, \\theta]$ метод максимума правдоподобия дает:\n",
    "    $$f_X(x) = \\frac{1}{2\\theta}I_{x\\in [-\\theta, \\theta]}$$\n",
    "    $$\\Rightarrow L = \\left(\\frac{1}{2\\theta}\\right)^n \\Rightarrow \\log L = \\ell = - n \\log{2\\theta}$$\n",
    "    $$\\Rightarrow \\frac{\\partial \\ell}{\\partial \\theta} = - \\frac{n}{\\theta} < 0$$\n",
    "    Производная равна отрицательному числу при всех $\\theta>0$. Тогда максимальное значение отрицательной дроби достигается при максимуме знаменателя, то есть $X_{(n)} = \\max(X_1,X_2,\\ldots, X_n)$"
   ]
  },
  {
   "cell_type": "code",
   "execution_count": 13,
   "metadata": {},
   "outputs": [
    {
     "data": {
      "text/plain": [
       "2.9935912142851118"
      ]
     },
     "execution_count": 13,
     "metadata": {},
     "output_type": "execute_result"
    }
   ],
   "source": [
    "theta_mle = x.max()\n",
    "theta_mle"
   ]
  },
  {
   "cell_type": "markdown",
   "metadata": {},
   "source": [
    "Увеличим N:"
   ]
  },
  {
   "cell_type": "code",
   "execution_count": 81,
   "metadata": {},
   "outputs": [
    {
     "data": {
      "text/plain": [
       "(2.988037296673029, 2.9984168635726514)"
      ]
     },
     "execution_count": 81,
     "metadata": {},
     "output_type": "execute_result"
    }
   ],
   "source": [
    "N = 1000\n",
    "theta = 3 # try 1, 2, 3, 4, 5\n",
    "\n",
    "x = np.random.uniform(-theta, theta, N)\n",
    "\n",
    "theta_mm = np.sqrt(3*(x**2).mean())\n",
    "theta_mle = x.max()\n",
    "\n",
    "theta_mm, theta_mle"
   ]
  },
  {
   "cell_type": "markdown",
   "metadata": {},
   "source": [
    "```Какая лучше?``` На самом деле неясно. При малых $N$ везде получается чепуха, но MLE оценка, например, никогда не будет больше оцениваемого параметра, тогда как MM может. При больших $N$ обе оценки сходятся к параметру."
   ]
  },
  {
   "cell_type": "markdown",
   "metadata": {},
   "source": [
    "Проверим ассимптотическую нормальность:"
   ]
  },
  {
   "cell_type": "code",
   "execution_count": 97,
   "metadata": {},
   "outputs": [],
   "source": [
    "M = 10000\n",
    "N = 100\n",
    "\n",
    "est_mm = []\n",
    "est_mle = []\n",
    "\n",
    "for i in range(M):\n",
    "    x = np.random.uniform(-theta, theta, N)\n",
    "\n",
    "    theta_mm = np.sqrt(3*(x**2).mean())\n",
    "    theta_mle = x.max()\n",
    "    \n",
    "    est_mm.append(theta_mm)\n",
    "    est_mle.append(theta_mle)\n",
    "\n",
    "est_mm = np.array(est_mm)\n",
    "est_mle = np.array(est_mle)"
   ]
  },
  {
   "cell_type": "code",
   "execution_count": 98,
   "metadata": {},
   "outputs": [
    {
     "data": {
      "image/png": "[encoded data removed]",
      "text/plain": [
       "<Figure size 432x288 with 1 Axes>"
      ]
     },
     "metadata": {
      "needs_background": "light"
     },
     "output_type": "display_data"
    }
   ],
   "source": [
    "plt.hist(np.sqrt(N)*(est_mm - theta), bins = 100)\n",
    "plt.show()"
   ]
  },
  {
   "cell_type": "code",
   "execution_count": 99,
   "metadata": {},
   "outputs": [
    {
     "data": {
      "image/png": "[encoded data removed]",
      "text/plain": [
       "<Figure size 432x288 with 1 Axes>"
      ]
     },
     "metadata": {
      "needs_background": "light"
     },
     "output_type": "display_data"
    }
   ],
   "source": [
    "plt.hist(np.sqrt(N)*(est_mle - theta), bins = 100)\n",
    "plt.show()"
   ]
  },
  {
   "cell_type": "markdown",
   "metadata": {},
   "source": [
    "```Вывод:``` Метод моментов - ассимптотически нормальная оцнка, а метод максимума правдоподобия - нет (хотя вроде как должна быть)."
   ]
  },
  {
   "cell_type": "markdown",
   "metadata": {},
   "source": [
    "# II."
   ]
  },
  {
   "cell_type": "markdown",
   "metadata": {},
   "source": [
    "$f_\\theta(x) = e^{\\theta - x}I_{x>\\theta} \\Rightarrow F_\\theta(x) = 1-e^{\\theta-x}I_{x>\\theta} \\Rightarrow F^{-1}_\\theta(u) = \\theta - \\ln{(1-u)}$"
   ]
  },
  {
   "cell_type": "code",
   "execution_count": 118,
   "metadata": {},
   "outputs": [],
   "source": [
    "N = 100\n",
    "theta = 1.8\n",
    "\n",
    "u = np.random.uniform(0,1,N)\n",
    "x = theta - np.log(1-u)"
   ]
  },
  {
   "cell_type": "markdown",
   "metadata": {},
   "source": [
    "Для $X\\sim f_\\theta(x) = e^{\\theta - x}I_{x>\\theta} $ метод моментов дает:\n",
    "$$EX = \\int_\\theta^\\infty x\\cdot e^{\\theta-x}dx = \\theta + 1 = \\overline{X}$$\n",
    "$$\\Rightarrow \\theta = \\overline{X}-1$$"
   ]
  },
  {
   "cell_type": "code",
   "execution_count": 119,
   "metadata": {},
   "outputs": [
    {
     "data": {
      "text/plain": [
       "1.917502263334252"
      ]
     },
     "execution_count": 119,
     "metadata": {},
     "output_type": "execute_result"
    }
   ],
   "source": [
    "theta_mm = x.mean() - 1\n",
    "theta_mm"
   ]
  },
  {
   "cell_type": "markdown",
   "metadata": {},
   "source": [
    "Для $X\\sim f_\\theta(x) = e^{\\theta - x}I_{x>\\theta} $ метод максимума правдоподобия дает:\n",
    "$$ L = e^{n\\theta - \\sum x_i} I_{x_1>\\theta}\\ldots I_{x_n>\\theta} = e^{n\\cdot\\left(\\theta - \\overline{x}\\right)}I_{x_{(1)}>\\theta}$$"
   ]
  },
  {
   "cell_type": "code",
   "execution_count": 122,
   "metadata": {},
   "outputs": [
    {
     "data": {
      "text/plain": [
       "1.8043992547852006"
      ]
     },
     "execution_count": 122,
     "metadata": {},
     "output_type": "execute_result"
    }
   ],
   "source": [
    "x.min()"
   ]
  },
  {
   "cell_type": "code",
   "execution_count": null,
   "metadata": {},
   "outputs": [],
   "source": []
  }
 ],
 "metadata": {
  "kernelspec": {
   "display_name": "Python 3",
   "language": "python",
   "name": "python3"
  },
  "language_info": {
   "codemirror_mode": {
    "name": "ipython",
    "version": 3
   },
   "file_extension": ".py",
   "mimetype": "text/x-python",
   "name": "python",
   "nbconvert_exporter": "python",
   "pygments_lexer": "ipython3",
   "version": "3.9.10"
  },
  "orig_nbformat": 4
 },
 "nbformat": 4,
 "nbformat_minor": 2
}
