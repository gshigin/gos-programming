{
 "cells": [
  {
   "cell_type": "markdown",
   "metadata": {},
   "source": [
    "Сгенерировано гпт"
   ]
  },
  {
   "cell_type": "code",
   "execution_count": null,
   "metadata": {},
   "outputs": [],
   "source": [
    "import pandas as pd\n",
    "from sklearn.cluster import KMeans, DBSCAN, OPTICS, SpectralClustering\n",
    "from sklearn.metrics import silhouette_score\n",
    "\n",
    "# Загрузите данные из файла\n",
    "df = pd.read_csv('your_file.csv')\n",
    "\n",
    "# Определите признаки и истинные метки кластеров\n",
    "X = df.iloc[:, :2]\n",
    "true_labels = df.iloc[:, 2]\n",
    "\n",
    "# Создайте модели\n",
    "models = {\n",
    "    'KMeans': [KMeans(n_clusters=n) for n in [3, 6, 7]],\n",
    "    'DBSCAN': [DBSCAN()],\n",
    "    'OPTICS': [OPTICS()],\n",
    "    'SpectralClustering': [SpectralClustering(n_clusters=n) for n in [3, 6, 7]],\n",
    "}\n",
    "\n",
    "# Обучите модели и оцените их с помощью Silhouette Coefficient\n",
    "for name, model_list in models.items():\n",
    "    for model in model_list:\n",
    "        model.fit(X)\n",
    "        predicted_labels = model.labels_\n",
    "        # Исключаем случай, когда все точки относятся к одному кластеру\n",
    "        if len(set(predicted_labels)) > 1:\n",
    "            score = silhouette_score(X, predicted_labels)\n",
    "            print(f'{name} with {model.n_clusters if hasattr(model, \"n_clusters\") else \"default\"} clusters: Silhouette Coefficient = {score}')"
   ]
  },
  {
   "cell_type": "code",
   "execution_count": null,
   "metadata": {},
   "outputs": [],
   "source": [
    "import pandas as pd\n",
    "from scipy.cluster.hierarchy import dendrogram, linkage\n",
    "from sklearn.cluster import KMeans\n",
    "import matplotlib.pyplot as plt\n",
    "\n",
    "# Загрузите данные из файла\n",
    "df = pd.read_csv('your_file.csv')\n",
    "\n",
    "# Выполните иерархическую кластеризацию\n",
    "linked = linkage(df, 'single')\n",
    "\n",
    "# Постройте дендрограмму\n",
    "plt.figure(figsize=(10, 7))\n",
    "dendrogram(linked,\n",
    "            orientation='top',\n",
    "            distance_sort='descending',\n",
    "            show_leaf_counts=True)\n",
    "plt.show()\n",
    "\n",
    "# Выберите оптимальное число кластеров на основе дендрограммы\n",
    "n_clusters = 3  # замените это на ваше оптимальное число кластеров\n",
    "\n",
    "# Разделите данные на такое число кластеров методом k-средних\n",
    "kmeans = KMeans(n_clusters=n_clusters)\n",
    "kmeans.fit(df)\n",
    "\n",
    "# Сравните с оригиналом (вы можете использовать любую метрику сходства или визуализировать результаты)\n"
   ]
  }
 ],
 "metadata": {
  "language_info": {
   "name": "python"
  }
 },
 "nbformat": 4,
 "nbformat_minor": 2
}
