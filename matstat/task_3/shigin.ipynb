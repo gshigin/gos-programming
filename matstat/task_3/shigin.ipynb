{
 "cells": [
  {
   "cell_type": "markdown",
   "metadata": {},
   "source": [
    "# I. \n",
    "Тут я даже смог найти данные!"
   ]
  },
  {
   "cell_type": "code",
   "execution_count": 7,
   "metadata": {},
   "outputs": [],
   "source": [
    "import numpy as np\n",
    "import scipy.stats\n",
    "import matplotlib.pyplot as plt\n",
    "import seaborn as sns"
   ]
  },
  {
   "cell_type": "code",
   "execution_count": 6,
   "metadata": {},
   "outputs": [
    {
     "data": {
      "text/plain": [
       "array([146.8, 383. ,  90.9, 178.1, 267.5,  95.5, 156.5, 180. ,  90.9,\n",
       "       139.7, 200.2, 171.7, 187.2, 184.9,  70.1,  58. ,  84.1,  55.6,\n",
       "       133.1, 271.8, 135.9,  71.9,  99.4, 110.6,  47.5,  97.8, 122.7,\n",
       "        58.4, 154.4, 173.7, 118.8,  88. ,  84.6, 171.5, 254.3, 185.9,\n",
       "       137.2, 138.9,  96.2,  85. ,  45.2,  74.7, 264.9, 113.8, 133.4,\n",
       "        68.1, 156.4])"
      ]
     },
     "execution_count": 6,
     "metadata": {},
     "output_type": "execute_result"
    }
   ],
   "source": [
    "x = np.loadtxt(\"Rainfall.txt\", skiprows = 1)\n",
    "x"
   ]
  },
  {
   "cell_type": "code",
   "execution_count": 10,
   "metadata": {},
   "outputs": [
    {
     "data": {
      "text/plain": [
       "<AxesSubplot:ylabel='Count'>"
      ]
     },
     "execution_count": 10,
     "metadata": {},
     "output_type": "execute_result"
    },
    {
     "data": {
      "image/png": "[encoded data removed]",
      "text/plain": [
       "<Figure size 432x288 with 1 Axes>"
      ]
     },
     "metadata": {
      "needs_background": "light"
     },
     "output_type": "display_data"
    }
   ],
   "source": [
    "sns.histplot(x, bins = 10)"
   ]
  },
  {
   "cell_type": "markdown",
   "metadata": {},
   "source": [
    "Данных достаточно мало, визуально сложно что-то сказать"
   ]
  },
  {
   "cell_type": "markdown",
   "metadata": {},
   "source": [
    "Вспомним вообще, какие критерии распределений у нас есть:\n",
    "- Андерсона-Дарлинга\n",
    "- Колмогорова-Смирнова\n",
    "- Хи-квадрат для частот (он не непрерывный)\n",
    "Дальше ужо не помню...\n",
    "\n",
    "Я бы взял АД и КС:"
   ]
  },
  {
   "cell_type": "code",
   "execution_count": 13,
   "metadata": {},
   "outputs": [
    {
     "data": {
      "text/plain": [
       "AndersonResult(statistic=6.19343418343302, critical_values=array([0.91 , 1.064, 1.324, 1.586, 1.932]), significance_level=array([15. , 10. ,  5. ,  2.5,  1. ]))"
      ]
     },
     "execution_count": 13,
     "metadata": {},
     "output_type": "execute_result"
    }
   ],
   "source": [
    "ad = scipy.stats.anderson(x, 'expon')\n",
    "ad"
   ]
  },
  {
   "cell_type": "markdown",
   "metadata": {},
   "source": [
    "Наша статистика равна $6.19$, а критическое значение на уровне $alpha = 0.05$ равно $1.32$. Андерсон-Дарлинг предлагает гипотезу отвергать"
   ]
  },
  {
   "cell_type": "code",
   "execution_count": 16,
   "metadata": {},
   "outputs": [
    {
     "data": {
      "text/plain": [
       "KstestResult(statistic=1.0, pvalue=0.0)"
      ]
     },
     "execution_count": 16,
     "metadata": {},
     "output_type": "execute_result"
    }
   ],
   "source": [
    "ks = scipy.stats.kstest(x, scipy.stats.expon.cdf)\n",
    "ks"
   ]
  },
  {
   "cell_type": "markdown",
   "metadata": {},
   "source": [
    "p-value 0.0 явно показывает, что оно меньшк 0.05 а значит гипотезу снова надо отвергать"
   ]
  },
  {
   "cell_type": "markdown",
   "metadata": {},
   "source": [
    "# II."
   ]
  },
  {
   "cell_type": "markdown",
   "metadata": {},
   "source": [
    "Сделаем всё то же самое для нормального распределения:"
   ]
  },
  {
   "cell_type": "code",
   "execution_count": 17,
   "metadata": {},
   "outputs": [
    {
     "data": {
      "text/plain": [
       "AndersonResult(statistic=1.0860472352144512, critical_values=array([0.536, 0.611, 0.733, 0.855, 1.017]), significance_level=array([15. , 10. ,  5. ,  2.5,  1. ]))"
      ]
     },
     "execution_count": 17,
     "metadata": {},
     "output_type": "execute_result"
    }
   ],
   "source": [
    "ad = scipy.stats.anderson(x, 'norm')\n",
    "ad"
   ]
  },
  {
   "cell_type": "code",
   "execution_count": 18,
   "metadata": {},
   "outputs": [
    {
     "data": {
      "text/plain": [
       "KstestResult(statistic=1.0, pvalue=0.0)"
      ]
     },
     "execution_count": 18,
     "metadata": {},
     "output_type": "execute_result"
    }
   ],
   "source": [
    "ks = scipy.stats.kstest(x, scipy.stats.norm.cdf)\n",
    "ks"
   ]
  },
  {
   "cell_type": "markdown",
   "metadata": {},
   "source": [
    "Снова оба критерия говорят отвергать гипотезу. Увы и ах"
   ]
  }
 ],
 "metadata": {
  "kernelspec": {
   "display_name": "myenv",
   "language": "python",
   "name": "python3"
  },
  "language_info": {
   "codemirror_mode": {
    "name": "ipython",
    "version": 3
   },
   "file_extension": ".py",
   "mimetype": "text/x-python",
   "name": "python",
   "nbconvert_exporter": "python",
   "pygments_lexer": "ipython3",
   "version": "3.9.10"
  },
  "orig_nbformat": 4
 },
 "nbformat": 4,
 "nbformat_minor": 2
}
