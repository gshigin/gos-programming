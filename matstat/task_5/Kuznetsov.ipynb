{
 "cells": [
  {
   "cell_type": "markdown",
   "metadata": {},
   "source": [
    "Сгенерировано гпт"
   ]
  },
  {
   "cell_type": "code",
   "execution_count": null,
   "metadata": {},
   "outputs": [],
   "source": [
    "import pandas as pd\n",
    "from scipy import stats\n",
    "\n",
    "# Загрузите данные из файла\n",
    "df = pd.read_csv('your_file.csv')\n",
    "\n",
    "# Вычислите матрицу корреляции\n",
    "corr_matrix = df.corr()\n",
    "\n",
    "# Вычислите скорректированные корреляции\n",
    "adjusted_corr = corr_matrix.copy()\n",
    "for i in range(len(adjusted_corr.columns)):\n",
    "    for j in range(i+1, len(adjusted_corr.columns)):\n",
    "        idx = [k for k in range(len(adjusted_corr.columns)) if k != i and k != j]\n",
    "        partial_corr = stats.partial_corr(df.iloc[:, idx], df.iloc[:, i], df.iloc[:, j])\n",
    "        adjusted_corr.iloc[i, j] = partial_corr[0, 1]\n",
    "        adjusted_corr.iloc[j, i] = partial_corr[0, 1]\n",
    "\n",
    "# Найдите наиболее сильно коррелирующие пары\n",
    "strongest_pairs = adjusted_corr.unstack().sort_values(ascending=False)"
   ]
  },
  {
   "cell_type": "code",
   "execution_count": null,
   "metadata": {},
   "outputs": [],
   "source": [
    "import pandas as pd\n",
    "import numpy as np\n",
    "from scipy import stats\n",
    "\n",
    "# Загрузите данные из файла\n",
    "df = pd.read_csv('your_file.csv')\n",
    "\n",
    "# Вычислите матрицу корреляции Пирсона\n",
    "pearson_corr_matrix = df.corr(method='pearson')\n",
    "\n",
    "# Вычислите матрицу корреляции Спирмена\n",
    "spearman_corr_matrix = df.corr(method='spearman')\n",
    "\n",
    "# Вычислите скорректированные корреляции\n",
    "adjusted_corr = pearson_corr_matrix.copy()\n",
    "for i in range(len(adjusted_corr.columns)):\n",
    "    for j in range(i+1, len(adjusted_corr.columns)):\n",
    "        idx = [k for k in range(len(adjusted_corr.columns)) if k != i and k != j]\n",
    "        partial_corr = stats.pearsonr(df.iloc[:, idx], df.iloc[:, i])[0]\n",
    "        adjusted_corr.iloc[i, j] = partial_corr\n",
    "        adjusted_corr.iloc[j, i] = partial_corr\n",
    "\n",
    "# Найдите наиболее сильно коррелирующие пары\n",
    "strongest_pairs = adjusted_corr.unstack().sort_values(ascending=False)"
   ]
  }
 ],
 "metadata": {
  "language_info": {
   "name": "python"
  }
 },
 "nbformat": 4,
 "nbformat_minor": 2
}
