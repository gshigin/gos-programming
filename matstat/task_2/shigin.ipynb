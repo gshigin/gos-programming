{
 "cells": [
  {
   "cell_type": "code",
   "execution_count": 22,
   "metadata": {},
   "outputs": [],
   "source": [
    "import numpy as np\n",
    "import scipy.stats\n",
    "import matplotlib.pyplot as plt"
   ]
  },
  {
   "cell_type": "markdown",
   "metadata": {},
   "source": [
    "Для доверительных интервалов, асимптотическая оценка ищется из предположений нормальности:\n",
    "$$\\dfrac{g(n)(\\hat{\\theta}-\\theta)}{\\sigma(\\theta)}\\sim N(0,1)$$\n",
    "Если $\\hat{\\theta}$ -- состоятельная оценка $\\theta$ (то есть имеется сходимость оценки к параметру), то имеет место замена:\n",
    "$$\\dfrac{g(n)(\\hat{\\theta}-\\theta)}{\\sigma(\\hat{\\theta})}\\sim N(0,1)$$\n",
    "Что именно изменилось: дисперсия $\\sigma$ в знаменателе теперь зависит от оценки $\\hat{\\theta}$, а не от самой $\\theta$. Это дает нам возможность сделать, например, такой переход: Взять состоятельную оценку $\\rightarrow$ оценить $\\sigma$ выборочной дисперсией $S^2$ $\\rightarrow$ выразить $S^2$ через $\\hat{\\theta}$.\n",
    "И тогда ас. доверительный интервал точности $1-\\alpha$ будет иметь вид:\n",
    "$$\\left( \\hat{\\theta} - \\dfrac{u_{1-\\alpha/2}\\sigma(\\hat{\\theta})}{g(n)},  \\hat{\\theta} + \\dfrac{u_{1-\\alpha/2}\\sigma(\\hat{\\theta})}{g(n)}\\right)$$\n",
    "Здесь $u_x$ - квантиль уровня $x$ для нормального распределения $N(0,1)$\n",
    "Зачастую в качестве $g(n)$ можно брать $\\sqrt{n}$"
   ]
  },
  {
   "cell_type": "markdown",
   "metadata": {},
   "source": [
    "# I. Про детей\n",
    "Не знаю, где найти данные. Но предположим, у нас есть массив, где 0 означает девочка, 1 - мальчик. То есть имеем распределение Бернулли и хотим оценить параметр этого распределения $p$"
   ]
  },
  {
   "cell_type": "code",
   "execution_count": 35,
   "metadata": {},
   "outputs": [
    {
     "data": {
      "text/plain": [
       "array([0, 1, 1, 0, 0, 0, 1, 1, 1, 0, 0, 1, 0, 0, 0, 0, 1, 0, 0, 1, 0, 0,\n",
       "       1, 0, 0, 0, 1, 0, 0, 1, 0, 0, 0, 0, 0, 1, 1, 0, 1, 0, 0, 1, 0, 1,\n",
       "       0, 1, 0, 1, 0, 0, 0, 1, 0, 0, 1, 0, 1, 1, 0, 0, 0, 0, 0, 0, 1, 1,\n",
       "       1, 1, 0, 0, 0, 0, 0, 0, 0, 0, 0, 0, 1, 0, 1, 0, 0, 0, 0, 1, 1, 1,\n",
       "       0, 0, 0, 0, 1, 0, 1, 0, 0, 0, 0, 0])"
      ]
     },
     "execution_count": 35,
     "metadata": {},
     "output_type": "execute_result"
    }
   ],
   "source": [
    "p = 0.3\n",
    "N = 100\n",
    "\n",
    "x = np.random.binomial(1, p, N)\n",
    "x"
   ]
  },
  {
   "cell_type": "markdown",
   "metadata": {},
   "source": [
    "Состоятельной оценкой для $p$ будет $\\hat{p} = \\overline{X}$. $\\sigma(p) = \\sqrt{p(1-p)}$ - обычная формула дисперсии. Тепер, так как мы можем замеить $\\sigma(p)$ на $\\sigma(\\hat{p})$, то есть на $\\sqrt{\\overline{X}(1-\\overline{X})}$. Тогда получим:\n",
    "$$\\dfrac{\\sqrt{n}(\\overline{x}-p)}{\\sqrt{\\overline{X}(1-\\overline{X})}}\\sim N(0,1)$$\n",
    "Отсюда, асимптотический доверительный интервал:\n",
    "$$\\left(\\overline{X} - \\dfrac{u_{1-\\alpha/2}\\sqrt{\\overline{X}(1-\\overline{X})}}{\\sqrt{n}},\\overline{X} + \\dfrac{u_{1-\\alpha/2}\\sqrt{\\overline{X}(1-\\overline{X})}}{\\sqrt{n}}\\right)$$\n",
    "Традиционно $\\alpha = 0.05$"
   ]
  },
  {
   "cell_type": "code",
   "execution_count": 36,
   "metadata": {},
   "outputs": [
    {
     "data": {
      "text/plain": [
       "(0.23784000079994191, 0.4221599992000581)"
      ]
     },
     "execution_count": 36,
     "metadata": {},
     "output_type": "execute_result"
    }
   ],
   "source": [
    "alpha = 0.05\n",
    "\n",
    "u = scipy.stats.norm.ppf(1-alpha/2)\n",
    "x_mean = x.mean()\n",
    "ce_l = x_mean - u*np.sqrt(x_mean*(1-x_mean))/np.sqrt(N)\n",
    "ce_r = x_mean + u*np.sqrt(x_mean*(1-x_mean))/np.sqrt(N)\n",
    "ce_l, ce_r"
   ]
  },
  {
   "cell_type": "markdown",
   "metadata": {},
   "source": [
    "Вот такой вот интервал, наш параметр даже в него попал. Можно поварьировать $N$ и увидеть, как он стягивается"
   ]
  },
  {
   "cell_type": "markdown",
   "metadata": {},
   "source": [
    "А как построить точный интервал я не придумал :("
   ]
  },
  {
   "cell_type": "markdown",
   "metadata": {},
   "source": [
    "# II."
   ]
  },
  {
   "cell_type": "markdown",
   "metadata": {},
   "source": [
    "Данных снова нет, снова насемплим их из какого-то нормального распределения с погрешностями"
   ]
  },
  {
   "cell_type": "code",
   "execution_count": 68,
   "metadata": {},
   "outputs": [],
   "source": [
    "N = 100\n",
    "x = np.random.normal(300, 50, N) + np.absolute(np.random.normal(3, 3, N))"
   ]
  },
  {
   "cell_type": "markdown",
   "metadata": {},
   "source": [
    "Интервал оценки среднего через распределение Стьюдента имеет вид:\n",
    "$$\\left(\\overline{X} - t_{\\alpha/2, n-1}\\frac{S_n}{\\sqrt{n}}, \\overline{X} + t_{\\alpha/2, n-1}\\frac{S_n}{\\sqrt{n}}\\right)$$\n",
    "Здесь $t_{\\alpha,n-1}$ - квантиль уровня $\\alpha$ распределения Стьюдента с $n-1$ степенью свободы, $S_n$ - корень из выборочной дисперсии"
   ]
  },
  {
   "cell_type": "code",
   "execution_count": 69,
   "metadata": {},
   "outputs": [
    {
     "data": {
      "text/plain": [
       "(295.9514821197486, 298.6431190190411)"
      ]
     },
     "execution_count": 69,
     "metadata": {},
     "output_type": "execute_result"
    }
   ],
   "source": [
    "x_mean = x.mean()\n",
    "t = scipy.stats.t.ppf(1-0.05/2, N-1)\n",
    "std = np.sqrt(x.std())\n",
    "ce_l = x_mean - t*std/np.sqrt(N)\n",
    "ce_r = x_mean + t*std/np.sqrt(N)\n",
    "ce_l, ce_r"
   ]
  },
  {
   "cell_type": "markdown",
   "metadata": {},
   "source": [
    "На основе нормального распределения: $\\overline{X}$ будет состоятельной оценкой, $\\sigma(\\theta)$ оценим как $\\sqrt{S^2}$, тогда искомый интервал:\n",
    "\n",
    "$$\\left( \\overline{X} - \\dfrac{u_{1-\\alpha/2}\\sqrt{S^2}}{\\sqrt{n}},\\overline{X} + \\dfrac{u_{1-\\alpha/2}\\sqrt{S^2}}{\\sqrt{n}}\\right)$$"
   ]
  },
  {
   "cell_type": "code",
   "execution_count": 70,
   "metadata": {},
   "outputs": [
    {
     "data": {
      "text/plain": [
       "(295.96793197941753, 298.62666915937217)"
      ]
     },
     "execution_count": 70,
     "metadata": {},
     "output_type": "execute_result"
    }
   ],
   "source": [
    "alpha = 0.05\n",
    "\n",
    "x_mean = x.mean()\n",
    "x_std = np.sqrt(x.std())\n",
    "u = scipy.stats.norm.ppf(1-alpha/2)\n",
    "\n",
    "ce_l = x_mean - u*x_std/np.sqrt(N)\n",
    "ce_r = x_mean + u*x_std/np.sqrt(N)\n",
    "ce_l, ce_r"
   ]
  },
  {
   "cell_type": "markdown",
   "metadata": {},
   "source": [
    "Теперь бутстреп (что такое опция normal я не знаю):"
   ]
  },
  {
   "cell_type": "code",
   "execution_count": 82,
   "metadata": {},
   "outputs": [
    {
     "data": {
      "text/plain": [
       "(288.0683492772335, 305.93754586434756)"
      ]
     },
     "execution_count": 82,
     "metadata": {},
     "output_type": "execute_result"
    }
   ],
   "source": [
    "ans = scipy.stats.bootstrap((x,), np.mean, n_resamples=1000, random_state = 13)\n",
    "interval = ans.confidence_interval\n",
    "interval.low, interval.high"
   ]
  },
  {
   "cell_type": "markdown",
   "metadata": {},
   "source": [
    "Какой-то вывод: Бутстреп дал самый длинный интервал, стьюдент и нормальный - более-менее одинаковый"
   ]
  }
 ],
 "metadata": {
  "kernelspec": {
   "display_name": "myenv",
   "language": "python",
   "name": "python3"
  },
  "language_info": {
   "codemirror_mode": {
    "name": "ipython",
    "version": 3
   },
   "file_extension": ".py",
   "mimetype": "text/x-python",
   "name": "python",
   "nbconvert_exporter": "python",
   "pygments_lexer": "ipython3",
   "version": "3.9.10"
  },
  "orig_nbformat": 4
 },
 "nbformat": 4,
 "nbformat_minor": 2
}
