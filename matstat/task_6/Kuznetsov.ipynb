{
 "cells": [
  {
   "cell_type": "markdown",
   "metadata": {},
   "source": [
    "Сгенерировано гпт"
   ]
  },
  {
   "cell_type": "code",
   "execution_count": null,
   "metadata": {},
   "outputs": [],
   "source": [
    "import pandas as pd\n",
    "from sklearn.linear_model import LinearRegression, HuberRegressor, RANSACRegressor\n",
    "from sklearn.model_selection import cross_val_score\n",
    "\n",
    "# Загрузите данные из файла\n",
    "df = pd.read_csv('your_file.csv')\n",
    "\n",
    "# Определите целевую переменную и признаки\n",
    "target = 'your_target_variable'\n",
    "features = df.columns.drop(target)\n",
    "\n",
    "X = df[features]\n",
    "y = df[target]\n",
    "\n",
    "# Создайте модели\n",
    "models = {\n",
    "    'OLS': LinearRegression(),\n",
    "    'Huber': HuberRegressor(),\n",
    "    'RANSAC': RANSACRegressor(),\n",
    "}\n",
    "\n",
    "# Вычислите кросс-валидацию для каждой модели\n",
    "for name, model in models.items():\n",
    "    score = cross_val_score(model, X, y, cv=5).mean()\n",
    "    print(f'{name} score: {score}')\n",
    "\n",
    "# Выберите лучшую модель на основе кросс-валидации\n",
    "best_model_name = max(models.keys(), key=lambda name: cross_val_score(models[name], X, y, cv=5).mean())\n",
    "best_model = models[best_model_name]\n",
    "\n",
    "# Обучите лучшую модель на всех данных\n",
    "best_model.fit(X, y)\n",
    "\n",
    "# Вычислите остатки\n",
    "residuals = y - best_model.predict(X)\n"
   ]
  }
 ],
 "metadata": {
  "language_info": {
   "name": "python"
  }
 },
 "nbformat": 4,
 "nbformat_minor": 2
}
