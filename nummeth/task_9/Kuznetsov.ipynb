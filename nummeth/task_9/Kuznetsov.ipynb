{
 "cells": [
  {
   "cell_type": "markdown",
   "metadata": {},
   "source": [
    "# Задание 9\n",
    "Использовать составную квадратуру трапеций, Симпсона или квадратуру Гаусса."
   ]
  },
  {
   "cell_type": "markdown",
   "metadata": {},
   "source": [
    "## Теория"
   ]
  },
  {
   "cell_type": "markdown",
   "metadata": {},
   "source": [
    "Задача состоит в приближении определенного интеграла от $f(x)$ на интервале $[a;b]$ вычисляя функцию в конечном наборе точек.\n",
    "\n",
    "Формула квадратуры (формула численного интегрирования):\n",
    "$$Q(f)=\\sum\\limits_{k=0}^Mw_kf(x_k)$$"
   ]
  },
  {
   "cell_type": "markdown",
   "metadata": {},
   "source": [
    "### Квадратура трапеции"
   ]
  },
  {
   "cell_type": "markdown",
   "metadata": {},
   "source": [
    "Составную формулу трапеций для $M$ подинтервалов длиной $h$ можно выразить в виде:\n",
    "$$T(f,h)=\\frac{h}{2}\\sum\\limits_{k=1}^M(f(x_{k-1})+f(x_k))=\\frac{h}{2}(f(a)+f(b))+h\\sum\\limits_{k=1}^{M-1}f(x_k)$$"
   ]
  },
  {
   "cell_type": "markdown",
   "metadata": {},
   "source": [
    "### Квадратура Симпсона"
   ]
  },
  {
   "cell_type": "markdown",
   "metadata": {},
   "source": [
    "Составную формулу Симпсона для $2M$ подинтервалов длиной $h$ можно выразить в виде:\n",
    "$$S(f,h)=\\frac{h}{3}\\sum\\limits_{k=1}^M(f(x_{2k-2})+4f(x_{2k-1})+f(x_{2k}))=$$\n",
    "$$=\\frac{h}{3}(f(a)+f(b))+\\frac{2h}{3}\\sum\\limits_{k=1}^{M-1}f(x_{2k})+\\frac{4h}{3}\\sum\\limits_{k=1}^{M}f(x_{2k-1})$$"
   ]
  },
  {
   "cell_type": "markdown",
   "metadata": {},
   "source": [
    "### Квадратура Гаусса"
   ]
  },
  {
   "cell_type": "markdown",
   "metadata": {},
   "source": [
    "Хитро-выдуманная штука, суть которой заключается в приближении интеграла конечным числом точек:\n",
    "$$\\int_a^bf(x)dx\\approx\\frac{b-a}{2}\\sum\\limits_{k=1}^Nw_{N,k}f(t_{N,k})$$\n",
    "по значениям функции $f(x)$ в $N$ равностоящих точках $\\{t_{N,k}\\}_{k=1}^N$. Есть табличные $\\{x_{N,k}\\}_{k=1}^N$, $\\{w_{N,k}\\}_{k=1}^N$, во время вычислений необходимо сделать замену для перехода к произвольным $[a;b]$:\n",
    "$$t=\\frac{a+b}{2}+\\frac{b-a}{2}x.$$\n",
    "Далее я воспользуюсь пятиточечным методом."
   ]
  },
  {
   "cell_type": "markdown",
   "metadata": {},
   "source": [
    "## Код"
   ]
  },
  {
   "cell_type": "code",
   "execution_count": 1,
   "metadata": {},
   "outputs": [],
   "source": [
    "import numpy as np\n",
    "import matplotlib.pyplot as plt\n",
    "np.random.seed(2023)"
   ]
  },
  {
   "cell_type": "markdown",
   "metadata": {},
   "source": [
    "Рассмотрим функцию:\n",
    "$$f(x)=2+\\sin(2\\sqrt{x}).$$\n",
    "Найдем приближение интеграла на интервале $[1;6]$.\n",
    "\n",
    "Численно, такой интеграл равен:\n",
    "$$\\int_1^6 2+\\sin(2\\sqrt{x}) = 8.18347921$$"
   ]
  },
  {
   "cell_type": "code",
   "execution_count": 2,
   "metadata": {},
   "outputs": [],
   "source": [
    "def f(x):\n",
    "    return 2+np.sin(2*np.sqrt(x))\n",
    "\n",
    "num_dots = 10\n",
    "grid = np.linspace(1,6,num_dots+1)\n",
    "h = grid[1] - grid[0]"
   ]
  },
  {
   "cell_type": "markdown",
   "metadata": {},
   "source": [
    "### Квадратура трапеции"
   ]
  },
  {
   "cell_type": "code",
   "execution_count": 3,
   "metadata": {},
   "outputs": [],
   "source": [
    "answer = 0"
   ]
  },
  {
   "cell_type": "code",
   "execution_count": 4,
   "metadata": {},
   "outputs": [],
   "source": [
    "answer += h/2*(f(grid[0]) + f(grid[-1]))\n",
    "for i in range(1,num_dots):\n",
    "    answer += h*f(grid[i])"
   ]
  },
  {
   "cell_type": "code",
   "execution_count": 5,
   "metadata": {},
   "outputs": [
    {
     "name": "stdout",
     "output_type": "stream",
     "text": [
      "answer=8.193854565172531\n"
     ]
    }
   ],
   "source": [
    "print(f'{answer=}')"
   ]
  },
  {
   "cell_type": "markdown",
   "metadata": {},
   "source": [
    "### Квадратура Симпсона"
   ]
  },
  {
   "cell_type": "code",
   "execution_count": 6,
   "metadata": {},
   "outputs": [],
   "source": [
    "answer = 0"
   ]
  },
  {
   "cell_type": "code",
   "execution_count": 7,
   "metadata": {},
   "outputs": [],
   "source": [
    "answer += h/3*(f(grid[0]) + f(grid[-1]))\n",
    "for i in range(1,num_dots//2):\n",
    "    answer += 2*h/3*f(grid[2*i])\n",
    "for i in range(1,num_dots//2+1):\n",
    "    answer += 4*h/3*f(grid[2*i-1])"
   ]
  },
  {
   "cell_type": "code",
   "execution_count": 8,
   "metadata": {},
   "outputs": [
    {
     "name": "stdout",
     "output_type": "stream",
     "text": [
      "answer=8.183015494056182\n"
     ]
    }
   ],
   "source": [
    "print(f'{answer=}')"
   ]
  },
  {
   "cell_type": "markdown",
   "metadata": {},
   "source": [
    "### Квадратура Гаусса"
   ]
  },
  {
   "cell_type": "markdown",
   "metadata": {},
   "source": [
    "Таблица коэффициентов взята из Mathews Fink"
   ]
  },
  {
   "cell_type": "code",
   "execution_count": 9,
   "metadata": {},
   "outputs": [],
   "source": [
    "answer = 0\n",
    "a, b = 1, 6\n",
    "X = np.array([-0.90617, -0.05384, 0, 0.05384, 0.90617])\n",
    "W = np.array([0.23692, 0.47862, 0.56888, 0.47862, 0.23692])\n",
    "\n",
    "def t(x,a,b):\n",
    "    return (a+b)/2 + (b-a)/2*x"
   ]
  },
  {
   "cell_type": "code",
   "execution_count": 10,
   "metadata": {},
   "outputs": [],
   "source": [
    "for x, w in zip(X,W):\n",
    "    answer += w*f(t(x,a,b))\n",
    "answer = (b-a)/2 * answer"
   ]
  },
  {
   "cell_type": "code",
   "execution_count": 11,
   "metadata": {},
   "outputs": [
    {
     "name": "stdout",
     "output_type": "stream",
     "text": [
      "answer=7.731273548323852\n"
     ]
    }
   ],
   "source": [
    "print(f'{answer=}')"
   ]
  }
 ],
 "metadata": {
  "kernelspec": {
   "display_name": "base",
   "language": "python",
   "name": "python3"
  },
  "language_info": {
   "codemirror_mode": {
    "name": "ipython",
    "version": 3
   },
   "file_extension": ".py",
   "mimetype": "text/x-python",
   "name": "python",
   "nbconvert_exporter": "python",
   "pygments_lexer": "ipython3",
   "version": "3.10.8"
  },
  "orig_nbformat": 4
 },
 "nbformat": 4,
 "nbformat_minor": 2
}
